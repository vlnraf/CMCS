{
 "cells": [
  {
   "cell_type": "code",
   "execution_count": 1,
   "id": "lucky-zoning",
   "metadata": {},
   "outputs": [],
   "source": [
    "import numpy as np\n",
    "import matplotlib.pyplot as plt\n",
    "from matplotlib import figure\n",
    "from scipy.integrate import odeint\n",
    "from ipywidgets import interact\n",
    "from ipykernel.pylab.backend_inline import flush_figures"
   ]
  },
  {
   "cell_type": "code",
   "execution_count": 13,
   "id": "enclosed-session",
   "metadata": {},
   "outputs": [],
   "source": [
    "plt.style.use('ggplot')"
   ]
  },
  {
   "cell_type": "code",
   "execution_count": 14,
   "id": "monetary-sweden",
   "metadata": {},
   "outputs": [],
   "source": [
    "def func(x, t, r, s, a, b):\n",
    "    \n",
    "    dx = []\n",
    "    \n",
    "    V = x[0]\n",
    "    P = x[1]\n",
    "    \n",
    "    dV = r * V - (a * V * P)\n",
    "    dP = -(s * P) + (a * b * V * P)\n",
    "    \n",
    "    dx.append(dV)\n",
    "    dx.append(dP)\n",
    "    \n",
    "    return dx"
   ]
  },
  {
   "cell_type": "code",
   "execution_count": 15,
   "id": "sacred-candle",
   "metadata": {},
   "outputs": [],
   "source": [
    "t = np.linspace(0,2,1000)\n",
    "\n",
    "# x0 = [900,900]\n",
    "# sol = odeint(func, x0, t, args=(r,s,a,b))"
   ]
  },
  {
   "cell_type": "code",
   "execution_count": 16,
   "id": "complicated-advertiser",
   "metadata": {},
   "outputs": [],
   "source": [
    "r = 10\n",
    "s = 10\n",
    "a = 0.01\n",
    "b = 1"
   ]
  },
  {
   "cell_type": "code",
   "execution_count": 17,
   "id": "hawaiian-dragon",
   "metadata": {},
   "outputs": [
    {
     "data": {
      "application/vnd.jupyter.widget-view+json": {
       "model_id": "41c9ec7310544e3a93e7604ef3f4c4c4",
       "version_major": 2,
       "version_minor": 0
      },
      "text/plain": [
       "interactive(children=(IntSlider(value=500, description='pray', max=1000, min=100, step=100), IntSlider(value=5…"
      ]
     },
     "metadata": {},
     "output_type": "display_data"
    }
   ],
   "source": [
    "# pray = x0[0]\n",
    "# predator = x0[1]\n",
    "\n",
    "@interact\n",
    "def plot(pray = (100,1000,100), predator = (100,1000,100), r = (1,10,1), s = (0,10,1), a = (0.01, 1, 0.001), b = (1,10,1)):\n",
    "    t = np.linspace(0,2,100)\n",
    "    y0 = [pray, predator]\n",
    "    res = odeint(func, y0, t, args=(r,s,a,b))\n",
    "    plt.title('Lokta-Volterra model over time')\n",
    "    plt.xlabel('time')\n",
    "    plt.ylabel('value')\n",
    "    plt.grid()\n",
    "    plt.plot(t, res)\n",
    "    plt.show()\n",
    "#     return plt.figure()"
   ]
  },
  {
   "cell_type": "code",
   "execution_count": null,
   "id": "macro-tutorial",
   "metadata": {},
   "outputs": [],
   "source": []
  },
  {
   "cell_type": "code",
   "execution_count": null,
   "id": "christian-mattress",
   "metadata": {},
   "outputs": [],
   "source": []
  }
 ],
 "metadata": {
  "kernelspec": {
   "display_name": "py_36_env",
   "language": "python",
   "name": "py_36_env"
  },
  "language_info": {
   "codemirror_mode": {
    "name": "ipython",
    "version": 3
   },
   "file_extension": ".py",
   "mimetype": "text/x-python",
   "name": "python",
   "nbconvert_exporter": "python",
   "pygments_lexer": "ipython3",
   "version": "3.6.12"
  }
 },
 "nbformat": 4,
 "nbformat_minor": 5
}
