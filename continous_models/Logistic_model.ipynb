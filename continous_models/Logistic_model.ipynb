{
 "cells": [
  {
   "cell_type": "code",
   "execution_count": 83,
   "id": "smooth-entity",
   "metadata": {},
   "outputs": [],
   "source": [
    "import numpy as np\n",
    "import matplotlib.pyplot as plt\n",
    "from matplotlib import figure\n",
    "from scipy.integrate import odeint\n",
    "from ipywidgets import interact\n",
    "from ipykernel.pylab.backend_inline import flush_figures"
   ]
  },
  {
   "cell_type": "code",
   "execution_count": 84,
   "id": "applied-planning",
   "metadata": {},
   "outputs": [],
   "source": [
    "plt.style.use('seaborn-dark')"
   ]
  },
  {
   "cell_type": "code",
   "execution_count": 85,
   "id": "reduced-combination",
   "metadata": {},
   "outputs": [],
   "source": [
    "def func(x, t, r, k):\n",
    "    return r * x * (1 - (x / k))"
   ]
  },
  {
   "cell_type": "code",
   "execution_count": 86,
   "id": "packed-permit",
   "metadata": {},
   "outputs": [
    {
     "data": {
      "application/vnd.jupyter.widget-view+json": {
       "model_id": "b5236481b51d4eafb91879b114f1e232",
       "version_major": 2,
       "version_minor": 0
      },
      "text/plain": [
       "interactive(children=(IntSlider(value=55, description='pop', min=10), FloatSlider(value=2.0, description='r', …"
      ]
     },
     "metadata": {},
     "output_type": "display_data"
    }
   ],
   "source": [
    "@interact\n",
    "def plot(pop = (10,100,1), r = (0.0, 4.0, 0.1), k = (0, 100, 10)):\n",
    "    t = np.linspace(0,10,100)\n",
    "    y0 = pop\n",
    "    res = odeint(func, y0, t, args=(r,k))\n",
    "    plt.plot(t, res)\n",
    "    plt.show()\n",
    "#     return plt.figure()"
   ]
  },
  {
   "cell_type": "code",
   "execution_count": null,
   "id": "overall-indication",
   "metadata": {},
   "outputs": [],
   "source": []
  }
 ],
 "metadata": {
  "kernelspec": {
   "display_name": "py_36_env",
   "language": "python",
   "name": "py_36_env"
  },
  "language_info": {
   "codemirror_mode": {
    "name": "ipython",
    "version": 3
   },
   "file_extension": ".py",
   "mimetype": "text/x-python",
   "name": "python",
   "nbconvert_exporter": "python",
   "pygments_lexer": "ipython3",
   "version": "3.6.12"
  }
 },
 "nbformat": 4,
 "nbformat_minor": 5
}
